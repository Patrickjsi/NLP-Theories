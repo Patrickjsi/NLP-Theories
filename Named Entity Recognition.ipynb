{
 "cells": [
  {
   "cell_type": "code",
   "execution_count": 1,
   "id": "3beda09e",
   "metadata": {},
   "outputs": [],
   "source": [
    "s1 = \"Apple is looking at buying U.K. startup for 1$ billion\"\n",
    "s2 = \"San Fransisco considers banning sidewalk delivery robots\"\n",
    "s3 = \"facebook is hiring new Vice President in U.S.\""
   ]
  },
  {
   "cell_type": "code",
   "execution_count": 2,
   "id": "72e4d21c",
   "metadata": {},
   "outputs": [],
   "source": [
    "import spacy\n",
    "nlp = spacy.load(name = 'en_core_web_sm')"
   ]
  },
  {
   "cell_type": "code",
   "execution_count": 3,
   "id": "69c7edca",
   "metadata": {},
   "outputs": [
    {
     "name": "stdout",
     "output_type": "stream",
     "text": [
      "Apple ORG Companies, agencies, institutions, etc.\n",
      "U.K. GPE Countries, cities, states\n",
      "1$ billion MONEY Monetary values, including unit\n"
     ]
    }
   ],
   "source": [
    "doc_1 = nlp(s1)\n",
    "for ent in doc_1.ents: \n",
    "    #to find the entites\n",
    "    print(ent.text, ent.label_, spacy.explain(ent.label_))"
   ]
  },
  {
   "cell_type": "code",
   "execution_count": 4,
   "id": "62a413ac",
   "metadata": {},
   "outputs": [
    {
     "name": "stdout",
     "output_type": "stream",
     "text": [
      "San Fransisco GPE Countries, cities, states\n"
     ]
    }
   ],
   "source": [
    "doc_2 = nlp(s2)\n",
    "for ent in doc_2.ents: \n",
    "    #to find the entites\n",
    "    print(ent.text, ent.label_, spacy.explain(ent.label_))"
   ]
  },
  {
   "cell_type": "code",
   "execution_count": 5,
   "id": "24316f7c",
   "metadata": {},
   "outputs": [
    {
     "name": "stdout",
     "output_type": "stream",
     "text": [
      "U.S. GPE Countries, cities, states\n"
     ]
    }
   ],
   "source": [
    "doc_3 = nlp(s3)\n",
    "for ent in doc_3.ents: \n",
    "    #to find the entites\n",
    "    print(ent.text, ent.label_, spacy.explain(ent.label_))"
   ]
  },
  {
   "cell_type": "markdown",
   "id": "07eeb802",
   "metadata": {},
   "source": [
    "We can see that facebook has not been identified as a named entity,\n",
    "so we can add specific words in spacy to be considered as NE."
   ]
  },
  {
   "cell_type": "code",
   "execution_count": 20,
   "id": "b8d66352",
   "metadata": {},
   "outputs": [],
   "source": [
    "#define ORG label\n",
    "ORG = doc_3.vocab.strings['ORG']"
   ]
  },
  {
   "cell_type": "code",
   "execution_count": 21,
   "id": "f2571441",
   "metadata": {},
   "outputs": [],
   "source": [
    "#import Span\n",
    "from spacy.tokens import Span"
   ]
  },
  {
   "cell_type": "code",
   "execution_count": 22,
   "id": "e776a2b2",
   "metadata": {},
   "outputs": [],
   "source": [
    "#define the new entity as Organisation\n",
    "#span takes ( document, start index of entity, end index of entity+1, \n",
    "#label type to be defined)\n",
    "new_ent = Span(doc_3,0,1,label = ORG)"
   ]
  },
  {
   "cell_type": "code",
   "execution_count": 23,
   "id": "8ad8d775",
   "metadata": {},
   "outputs": [],
   "source": [
    "doc_3.ents = list(doc_3.ents) + [new_ent]"
   ]
  },
  {
   "cell_type": "code",
   "execution_count": 24,
   "id": "af1a7108",
   "metadata": {},
   "outputs": [
    {
     "data": {
      "text/plain": [
       "(facebook, U.S.)"
      ]
     },
     "execution_count": 24,
     "metadata": {},
     "output_type": "execute_result"
    }
   ],
   "source": [
    "doc_3.ents"
   ]
  },
  {
   "cell_type": "code",
   "execution_count": 25,
   "id": "158e8b71",
   "metadata": {},
   "outputs": [
    {
     "name": "stdout",
     "output_type": "stream",
     "text": [
      "facebook ORG Companies, agencies, institutions, etc.\n",
      "U.S. GPE Countries, cities, states\n"
     ]
    }
   ],
   "source": [
    "for ent in doc_3.ents: \n",
    "    #to find the entites\n",
    "    print(ent.text, ent.label_, spacy.explain(ent.label_))"
   ]
  },
  {
   "cell_type": "code",
   "execution_count": 34,
   "id": "e2adb5c4",
   "metadata": {},
   "outputs": [
    {
     "data": {
      "text/html": [
       "<span class=\"tex2jax_ignore\"><div class=\"entities\" style=\"line-height: 2.5; direction: ltr\">\n",
       "<mark class=\"entity\" style=\"background: #7aecec; padding: 0.45em 0.6em; margin: 0 0.25em; line-height: 1; border-radius: 0.35em;\">\n",
       "    Apple\n",
       "    <span style=\"font-size: 0.8em; font-weight: bold; line-height: 1; border-radius: 0.35em; vertical-align: middle; margin-left: 0.5rem\">ORG</span>\n",
       "</mark>\n",
       " is looking at buying U.K. startup for 1$ billion</div></span>"
      ],
      "text/plain": [
       "<IPython.core.display.HTML object>"
      ]
     },
     "metadata": {},
     "output_type": "display_data"
    }
   ],
   "source": [
    "from spacy import displacy\n",
    "displacy.render(docs = doc_1, style = 'ent',options = {'ents' : ['ORG']}, jupyter = True)"
   ]
  },
  {
   "cell_type": "code",
   "execution_count": null,
   "id": "53695f4b",
   "metadata": {},
   "outputs": [],
   "source": []
  }
 ],
 "metadata": {
  "kernelspec": {
   "display_name": "Python 3",
   "language": "python",
   "name": "python3"
  },
  "language_info": {
   "codemirror_mode": {
    "name": "ipython",
    "version": 3
   },
   "file_extension": ".py",
   "mimetype": "text/x-python",
   "name": "python",
   "nbconvert_exporter": "python",
   "pygments_lexer": "ipython3",
   "version": "3.8.3"
  }
 },
 "nbformat": 4,
 "nbformat_minor": 5
}
