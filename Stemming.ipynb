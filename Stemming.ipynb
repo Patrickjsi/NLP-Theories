{
 "cells": [
  {
   "cell_type": "markdown",
   "metadata": {},
   "source": [
    "STEMMING AND LEMMATIZATION;\n",
    "STEMMING is for finding the root original word\n",
    "Played => play\n",
    "Playing => play\n"
   ]
  },
  {
   "cell_type": "code",
   "execution_count": 1,
   "metadata": {},
   "outputs": [],
   "source": [
    "words = ['study', 'studying', 'student', 'ate', 'eaten', 'eats', 'easily', 'poorly']"
   ]
  },
  {
   "cell_type": "code",
   "execution_count": 2,
   "metadata": {},
   "outputs": [],
   "source": [
    "import nltk\n",
    "from nltk.stem.porter import PorterStemmer\n",
    "from nltk.stem.snowball import SnowballStemmer"
   ]
  },
  {
   "cell_type": "code",
   "execution_count": 3,
   "metadata": {},
   "outputs": [],
   "source": [
    "p_stemmer = PorterStemmer()\n",
    "s_stemmer = SnowballStemmer(language='english')\n"
   ]
  },
  {
   "cell_type": "code",
   "execution_count": 10,
   "metadata": {},
   "outputs": [
    {
     "name": "stdout",
     "output_type": "stream",
     "text": [
      "study-------->studi\n",
      "studying-------->studi\n",
      "student-------->student\n",
      "ate-------->ate\n",
      "eaten-------->eaten\n",
      "eats-------->eat\n",
      "easily-------->easili\n",
      "poorly-------->poorli\n"
     ]
    }
   ],
   "source": [
    "for word in words:\n",
    "    print(word + '-------->' + p_stemmer.stem(word))"
   ]
  },
  {
   "cell_type": "code",
   "execution_count": 11,
   "metadata": {},
   "outputs": [
    {
     "name": "stdout",
     "output_type": "stream",
     "text": [
      "study-------->studi\n",
      "studying-------->studi\n",
      "student-------->student\n",
      "ate-------->ate\n",
      "eaten-------->eaten\n",
      "eats-------->eat\n",
      "easily-------->easili\n",
      "poorly-------->poor\n"
     ]
    }
   ],
   "source": [
    "for word in words:\n",
    "    print(word + '-------->' + s_stemmer.stem(word))"
   ]
  }
 ],
 "metadata": {
  "kernelspec": {
   "display_name": "Python 3",
   "language": "python",
   "name": "python3"
  },
  "language_info": {
   "codemirror_mode": {
    "name": "ipython",
    "version": 3
   },
   "file_extension": ".py",
   "mimetype": "text/x-python",
   "name": "python",
   "nbconvert_exporter": "python",
   "pygments_lexer": "ipython3",
   "version": "3.8.3"
  }
 },
 "nbformat": 4,
 "nbformat_minor": 4
}
