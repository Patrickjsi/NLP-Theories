{
 "cells": [
  {
   "cell_type": "markdown",
   "metadata": {},
   "source": [
    "# Rule based Matching"
   ]
  },
  {
   "cell_type": "code",
   "execution_count": 6,
   "metadata": {},
   "outputs": [],
   "source": [
    "import spacy\n",
    "nlp= spacy.load('en_core_web_sm')"
   ]
  },
  {
   "cell_type": "code",
   "execution_count": 7,
   "metadata": {},
   "outputs": [],
   "source": [
    "#import matcher library\n",
    "from spacy.matcher import Matcher\n",
    "matcher = Matcher(nlp.vocab) #matcher object is created and pass nlp.vocab\n",
    "#here matcher is an object that pairs to current Vocab Object\n",
    "# We can add and remove specific named matchers to matcher as needed\n",
    "\n"
   ]
  },
  {
   "cell_type": "code",
   "execution_count": 10,
   "metadata": {},
   "outputs": [],
   "source": [
    "#create a list and inside that list add series of dictionaries\n",
    "#Hello World can appear in the following ways,\n",
    "#1. Hello World, hello world, Hello WORLD, \n",
    "#2. Hello-World\n",
    "\n",
    "pattern_1 = [{'LOWER': 'hello'},{'LOWER': 'world'}]\n",
    "pattern_2 = [{'LOWER': 'hello'},{'IS_PUNCT': True},{'LOWER': 'world'}]\n",
    "\n",
    "#'LOWER','IS_PUNCT' are the attributes\n",
    "#they has to be written in that way only\n"
   ]
  },
  {
   "cell_type": "code",
   "execution_count": 15,
   "metadata": {},
   "outputs": [],
   "source": [
    "#add patterns to matcher object\n",
    "\n",
    "#Add a match rule to the matcher, a match rule consists of,\n",
    "#1. An ID Key\n",
    "#2. one or more patterns as List\n",
    "#3. an on_match callback (optional)\n",
    "\n",
    "matcher.add('Hello World', [pattern_1, pattern_2])"
   ]
  },
  {
   "cell_type": "code",
   "execution_count": 28,
   "metadata": {},
   "outputs": [],
   "source": [
    "#creation of a document\n",
    "doc = nlp(\"'Hello World' is a very interesting word that Hello WORLD has been used in numerous instances, printing 'Hello-World' is like a basic pre-requisite for beginners .\")"
   ]
  },
  {
   "cell_type": "code",
   "execution_count": 29,
   "metadata": {},
   "outputs": [
    {
     "name": "stdout",
     "output_type": "stream",
     "text": [
      "[(8585552006568828647, 1, 3), (8585552006568828647, 10, 12), (8585552006568828647, 21, 24)]\n"
     ]
    }
   ],
   "source": [
    "find_matches = matcher(doc)\n",
    "#Here we try to pass the document to matcher object and store that in a variable\n",
    "print(find_matches)\n",
    "\n",
    "#it will return output list of tuples\n",
    "#string ID, index start and index end\n",
    "#it doesn't consider the ' ' signs."
   ]
  },
  {
   "cell_type": "code",
   "execution_count": 30,
   "metadata": {},
   "outputs": [
    {
     "name": "stdout",
     "output_type": "stream",
     "text": [
      "8585552006568828647 Hello World 1 3 Hello World\n",
      "8585552006568828647 Hello World 10 12 Hello WORLD\n",
      "8585552006568828647 Hello World 21 24 Hello-World\n"
     ]
    }
   ],
   "source": [
    "#define a function to find the matches\n",
    "\n",
    "for match_id, start, end in find_matches:\n",
    "    string_id = nlp.vocab.strings[match_id] #get string representation\n",
    "    span = doc[start:end]  #get the matched span\n",
    "    print(match_id, string_id, start, end, span.text)"
   ]
  },
  {
   "cell_type": "code",
   "execution_count": 32,
   "metadata": {},
   "outputs": [],
   "source": [
    "#Redefine the patterns:\n",
    "pattern_3 = [{'LOWER': 'hello'},{'LOWER': 'world'}]\n",
    "pattern_4 = [{'LOWER': 'hello'},{'IS_PUNCT': True, 'OP':'*' },{'LOWER': 'world'}]\n",
    "#is_punct indicates whether the token is a punctuation symbol or not.\n",
    "#'OP':'*' ----> This is going to allow this pattern to match zero or more times for any punctuation.\n",
    "\n",
    "#ADD NEW SET OF PATTERNS IN THE MATCHER:\n",
    "matcher.add('Hello World', [pattern_3,pattern_4])\n"
   ]
  },
  {
   "cell_type": "code",
   "execution_count": 33,
   "metadata": {},
   "outputs": [],
   "source": [
    "doc_2 = nlp(\" You can print hello World or Hello world or HELLO WORLD\")"
   ]
  },
  {
   "cell_type": "code",
   "execution_count": 34,
   "metadata": {},
   "outputs": [
    {
     "name": "stdout",
     "output_type": "stream",
     "text": [
      "[(8585552006568828647, 4, 6), (8585552006568828647, 7, 9), (8585552006568828647, 10, 12)]\n"
     ]
    }
   ],
   "source": [
    "find_matches = matcher(doc_2)\n",
    "print(find_matches)"
   ]
  },
  {
   "cell_type": "code",
   "execution_count": null,
   "metadata": {},
   "outputs": [],
   "source": []
  }
 ],
 "metadata": {
  "kernelspec": {
   "display_name": "Python 3",
   "language": "python",
   "name": "python3"
  },
  "language_info": {
   "codemirror_mode": {
    "name": "ipython",
    "version": 3
   },
   "file_extension": ".py",
   "mimetype": "text/x-python",
   "name": "python",
   "nbconvert_exporter": "python",
   "pygments_lexer": "ipython3",
   "version": "3.8.3"
  }
 },
 "nbformat": 4,
 "nbformat_minor": 4
}
