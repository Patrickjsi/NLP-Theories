{
 "cells": [
  {
   "cell_type": "markdown",
   "metadata": {},
   "source": [
    "#STOP WORDS are the words used for definite\n"
   ]
  },
  {
   "cell_type": "code",
   "execution_count": null,
   "metadata": {},
   "outputs": [],
   "source": [
    "import spacy\n",
    "nlp = spacy.load('en_core_web_sm')"
   ]
  },
  {
   "cell_type": "code",
   "execution_count": 2,
   "metadata": {},
   "outputs": [
    {
     "name": "stdout",
     "output_type": "stream",
     "text": [
      "{'hundred', 'ours', 'again', 'herein', 'hereupon', 'something', 'her', 'side', 'alone', 'were', 'almost', 'which', 'each', 'whoever', 'made', 'together', 'becomes', 'without', 'too', 'against', 'hers', 'in', 'ourselves', 'thereby', 'she', 'however', 'herself', 'could', 'twelve', 'when', 'within', 'full', 'yourselves', 'several', 'much', 'can', \"'re\", '’m', 'me', 'an', 'until', 'hereby', 'below', 'indeed', 'perhaps', 'put', 'himself', 'two', 'front', 'should', 'show', 'over', 'well', 'own', 'just', 'now', 'anyway', 'every', 'out', 'whole', 'beforehand', 'either', 'around', 'sixty', 'go', 'next', 'onto', 'everyone', \"'s\", 'thus', 'i', 'regarding', 'where', 'the', 'else', 'at', 'forty', 'although', 'it', 'whence', 'and', 'another', \"'m\", 'via', 'anywhere', 'have', 'why', 'six', 'become', 'they', 'make', 'how', 'otherwise', 'besides', 'yours', 'elsewhere', 'therein', 'always', 'anything', 'throughout', 'therefore', 'whether', 'thereupon', 'though', 'before', 'call', '‘ve', 'between', 'third', '’d', 'will', 'any', 'also', 'not', 'moreover', 'wherever', 'your', 'to', 'once', 'more', 'such', 'was', 'whereupon', '’ve', 'am', 'none', 'bottom', 'along', 'seem', '‘d', 'its', 'beyond', 'themselves', 'keep', 'myself', 'down', 'who', 'somehow', 'most', 'take', 'about', 'further', 'serious', '‘s', 'never', 'as', 'been', 'upon', 'did', 'being', 'very', 'after', 'thence', 'for', 'empty', 'by', 'thru', 'noone', 'yet', 'us', 'used', 'above', 'nine', 'there', 'one', 'everywhere', 'my', 'please', 'n’t', 'our', 'eleven', 'least', 'meanwhile', 'while', 'anyone', 'whatever', 'same', 'across', 'ca', 'into', 'their', 'move', 'you', 'toward', 'using', 'them', 'whereafter', 'enough', 'with', 'so', 'among', 'he', 'if', 'off', 'get', 'amount', 'former', 'name', 'whenever', 'yourself', 'what', 'latter', 'cannot', 'thereafter', \"'d\", 'rather', '‘re', 'hereafter', 'less', 'already', 'but', '’s', 'must', 'due', 'someone', 'be', 'twenty', 'fifty', 'part', 'towards', 'all', 'would', \"'ll\", \"'ve\", 'beside', 'often', 'whereas', 'many', 'give', 'still', 'this', 'from', 'whom', 'during', 'various', 'see', 're', 'few', 'wherein', 'those', 'mine', 'really', 'nevertheless', 'even', 'doing', 'seemed', 'hence', 'than', 'these', 'namely', 'whose', 'five', 'since', 'might', 'everything', 'ten', 'of', 'seeming', 'nobody', '‘m', 'quite', 'sometimes', 'through', 'three', 'no', 'sometime', 'somewhere', 'that', 'we', 'other', 'seems', 'fifteen', 'does', 'or', 'him', 'afterwards', 'are', 'had', 'nor', 'mostly', 'anyhow', 'last', 'four', 'whither', 'top', '’re', 'unless', 'up', 'may', 'then', 'back', 'nowhere', 'because', 'whereby', 'neither', 'others', 'itself', 'amongst', 'except', 'under', 'his', 'on', 'both', 'is', 'latterly', '‘ll', 'a', 'only', 'do', 'became', 'n‘t', 'formerly', 'nothing', \"n't\", 'becoming', 'has', 'behind', 'here', 'some', '’ll', 'say', 'ever', 'first', 'eight', 'per', 'done'}\n"
     ]
    }
   ],
   "source": [
    "print(nlp.Defaults.stop_words)"
   ]
  },
  {
   "cell_type": "code",
   "execution_count": 4,
   "metadata": {},
   "outputs": [
    {
     "data": {
      "text/plain": [
       "326"
      ]
     },
     "execution_count": 4,
     "metadata": {},
     "output_type": "execute_result"
    }
   ],
   "source": [
    "len(nlp.Defaults.stop_words)"
   ]
  },
  {
   "cell_type": "code",
   "execution_count": 6,
   "metadata": {},
   "outputs": [
    {
     "data": {
      "text/plain": [
       "True"
      ]
     },
     "execution_count": 6,
     "metadata": {},
     "output_type": "execute_result"
    }
   ],
   "source": [
    "nlp.vocab['always'].is_stop"
   ]
  },
  {
   "cell_type": "code",
   "execution_count": 8,
   "metadata": {},
   "outputs": [
    {
     "data": {
      "text/plain": [
       "False"
      ]
     },
     "execution_count": 8,
     "metadata": {},
     "output_type": "execute_result"
    }
   ],
   "source": [
    "nlp.vocab['definite'].is_stop"
   ]
  },
  {
   "cell_type": "code",
   "execution_count": 12,
   "metadata": {},
   "outputs": [],
   "source": [
    "nlp.vocab['definite'].is_stop = True"
   ]
  },
  {
   "cell_type": "code",
   "execution_count": 13,
   "metadata": {},
   "outputs": [
    {
     "data": {
      "text/plain": [
       "326"
      ]
     },
     "execution_count": 13,
     "metadata": {},
     "output_type": "execute_result"
    }
   ],
   "source": [
    "len(nlp.Defaults.stop_words)"
   ]
  },
  {
   "cell_type": "code",
   "execution_count": 16,
   "metadata": {},
   "outputs": [],
   "source": [
    "nlp.Defaults.stop_words.add('definite')"
   ]
  },
  {
   "cell_type": "code",
   "execution_count": 17,
   "metadata": {},
   "outputs": [
    {
     "data": {
      "text/plain": [
       "327"
      ]
     },
     "execution_count": 17,
     "metadata": {},
     "output_type": "execute_result"
    }
   ],
   "source": [
    "len(nlp.Defaults.stop_words)"
   ]
  },
  {
   "cell_type": "code",
   "execution_count": null,
   "metadata": {},
   "outputs": [],
   "source": []
  }
 ],
 "metadata": {
  "kernelspec": {
   "display_name": "Python 3 (ipykernel)",
   "language": "python",
   "name": "python3"
  },
  "language_info": {
   "codemirror_mode": {
    "name": "ipython",
    "version": 3
   },
   "file_extension": ".py",
   "mimetype": "text/x-python",
   "name": "python",
   "nbconvert_exporter": "python",
   "pygments_lexer": "ipython3",
   "version": "3.8.17"
  }
 },
 "nbformat": 4,
 "nbformat_minor": 4
}
