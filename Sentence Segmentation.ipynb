{
 "cells": [
  {
   "cell_type": "code",
   "execution_count": null,
   "id": "2ff9438e",
   "metadata": {},
   "outputs": [],
   "source": [
    "s1 = \"This is a sentence. This is a second sentence. This is the last Sentence.\"\n",
    "s2 = \"This is a sentence; This is a second sentence; This is the last sentence.\""
   ]
  },
  {
   "cell_type": "code",
   "execution_count": 2,
   "id": "eb5027b7",
   "metadata": {},
   "outputs": [],
   "source": [
    "import spacy\n",
    "nlp = spacy.load(name = 'en_core_web_sm')"
   ]
  },
  {
   "cell_type": "code",
   "execution_count": 3,
   "id": "e66413d9",
   "metadata": {},
   "outputs": [],
   "source": [
    "doc1 = nlp(s1)"
   ]
  },
  {
   "cell_type": "code",
   "execution_count": 4,
   "id": "5f020e89",
   "metadata": {},
   "outputs": [
    {
     "name": "stdout",
     "output_type": "stream",
     "text": [
      "This is a sentence. This is a second sentence. This is the last Sentence.\n"
     ]
    }
   ],
   "source": [
    "print(doc1)"
   ]
  },
  {
   "cell_type": "markdown",
   "id": "276dcbcd",
   "metadata": {},
   "source": [
    "Doc.sents is a generator\n",
    "It is important to note that doc.sents is a generator. That is, a Doc is not segmented until doc.sents is called. This means that, where you could print the second Doc token with print(doc[1]), you can't call the \"second Doc sentence\" with print(doc.sents[1]):"
   ]
  },
  {
   "cell_type": "code",
   "execution_count": 5,
   "id": "ce9a00ab",
   "metadata": {},
   "outputs": [
    {
     "name": "stdout",
     "output_type": "stream",
     "text": [
      "This is a sentence.\n",
      "This is a second sentence.\n",
      "This is the last Sentence.\n"
     ]
    }
   ],
   "source": [
    "for sent in doc1.sents:\n",
    "    print(sent.text)"
   ]
  },
  {
   "cell_type": "code",
   "execution_count": 6,
   "id": "413135d4",
   "metadata": {},
   "outputs": [],
   "source": [
    "s3 = \"This is a sentence. This is a second U.K. sentence. This is the last Sentence.\""
   ]
  },
  {
   "cell_type": "code",
   "execution_count": 7,
   "id": "5f23f876",
   "metadata": {},
   "outputs": [],
   "source": [
    "doc3 = nlp(s3)"
   ]
  },
  {
   "cell_type": "code",
   "execution_count": 8,
   "id": "74b4216b",
   "metadata": {},
   "outputs": [
    {
     "name": "stdout",
     "output_type": "stream",
     "text": [
      "This is a sentence.\n",
      "This is a second U.K. sentence.\n",
      "This is the last Sentence.\n"
     ]
    }
   ],
   "source": [
    "for sent in doc3.sents:\n",
    "    print(sent.text)"
   ]
  },
  {
   "cell_type": "code",
   "execution_count": 9,
   "id": "8b1a8400",
   "metadata": {},
   "outputs": [
    {
     "name": "stdout",
     "output_type": "stream",
     "text": [
      "This is a sentence; This is a second sentence; This is the last sentence.\n"
     ]
    }
   ],
   "source": [
    "doc2 = nlp(s2)\n",
    "for sent in doc2.sents:\n",
    "    print(sent.text)"
   ]
  },
  {
   "cell_type": "markdown",
   "id": "01686bd0",
   "metadata": {},
   "source": [
    "We can see spacy has failed to understand the seperate sentences \n",
    "due to presence of semi-colon."
   ]
  },
  {
   "cell_type": "code",
   "execution_count": 10,
   "id": "40f3f72d",
   "metadata": {},
   "outputs": [],
   "source": [
    "#setting custom boundary, its almost similar to EXCEl column to text\n",
    "#where we put some delimiters to split things but at a much complicated scale."
   ]
  },
  {
   "cell_type": "code",
   "execution_count": 11,
   "id": "e6f7e09a",
   "metadata": {},
   "outputs": [],
   "source": [
    "#this part is new in Spacy v3.0. The @Language.component decorator lets you turn a simple function into a pipeline component. \n",
    "#It takes at least one argument, the name of the component factory. You can use this name to add an instance of your component to the pipeline. \n",
    "#It can also be listed in your pipeline config, so you can save, load and train pipelines using your component.\n",
    "from spacy.language import Language\n",
    "@Language.component(\"set_custom_boundaries\")\n",
    "##\n",
    "#setting our own function\n",
    "def set_custom_boundaries(doc):\n",
    "    for token in doc[:-1]:\n",
    "        if token.text == ';':\n",
    "            print(token.i)\n",
    "            doc[token.i+1].is_sent_start = True\n",
    "    return doc\n",
    "\n",
    "#it defines that last sentence is ending with fullstop so we omit that by [:-1]\n",
    "#then we print tokens and we tell that Next token i+1 is the start of a sentence."
   ]
  },
  {
   "cell_type": "code",
   "execution_count": 12,
   "id": "154d0a97",
   "metadata": {},
   "outputs": [
    {
     "data": {
      "text/plain": [
       "['tok2vec', 'tagger', 'parser', 'ner', 'attribute_ruler', 'lemmatizer']"
      ]
     },
     "execution_count": 12,
     "metadata": {},
     "output_type": "execute_result"
    }
   ],
   "source": [
    "#default nlp pipeline\n",
    "nlp.pipe_names"
   ]
  },
  {
   "cell_type": "code",
   "execution_count": 13,
   "id": "3b3ec3a8",
   "metadata": {},
   "outputs": [
    {
     "data": {
      "text/plain": [
       "<function __main__.set_custom_boundaries(doc)>"
      ]
     },
     "execution_count": 13,
     "metadata": {},
     "output_type": "execute_result"
    }
   ],
   "source": [
    "nlp.add_pipe(\"set_custom_boundaries\", before = 'parser')"
   ]
  },
  {
   "cell_type": "code",
   "execution_count": 14,
   "id": "d9f7f666",
   "metadata": {},
   "outputs": [
    {
     "data": {
      "text/plain": [
       "['tok2vec',\n",
       " 'tagger',\n",
       " 'set_custom_boundaries',\n",
       " 'parser',\n",
       " 'ner',\n",
       " 'attribute_ruler',\n",
       " 'lemmatizer']"
      ]
     },
     "execution_count": 14,
     "metadata": {},
     "output_type": "execute_result"
    }
   ],
   "source": [
    "nlp.pipe_names"
   ]
  },
  {
   "cell_type": "code",
   "execution_count": 15,
   "id": "551de4fc",
   "metadata": {},
   "outputs": [
    {
     "name": "stdout",
     "output_type": "stream",
     "text": [
      "4\n",
      "10\n",
      "This is a sentence;\n",
      "This is a second sentence;\n",
      "This is the last sentence.\n"
     ]
    }
   ],
   "source": [
    "doc_2 = nlp(s2)\n",
    "for sent in doc_2.sents:\n",
    "    print(sent)"
   ]
  },
  {
   "cell_type": "code",
   "execution_count": null,
   "id": "7bd0ffc5",
   "metadata": {},
   "outputs": [],
   "source": []
  }
 ],
 "metadata": {
  "kernelspec": {
   "display_name": "Python 3",
   "language": "python",
   "name": "python3"
  },
  "language_info": {
   "codemirror_mode": {
    "name": "ipython",
    "version": 3
   },
   "file_extension": ".py",
   "mimetype": "text/x-python",
   "name": "python",
   "nbconvert_exporter": "python",
   "pygments_lexer": "ipython3",
   "version": "3.8.3"
  }
 },
 "nbformat": 4,
 "nbformat_minor": 5
}
